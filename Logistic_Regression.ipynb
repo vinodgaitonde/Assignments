{
  "cells": [
    {
      "cell_type": "markdown",
      "metadata": {
        "id": "view-in-github",
        "colab_type": "text"
      },
      "source": [
        "<a href=\"https://colab.research.google.com/github/vinodgaitonde/Assignments/blob/main/Logistic_Regression.ipynb\" target=\"_parent\"><img src=\"https://colab.research.google.com/assets/colab-badge.svg\" alt=\"Open In Colab\"/></a>"
      ]
    },
    {
      "cell_type": "markdown",
      "metadata": {
        "id": "H_EF-fhLkjwf"
      },
      "source": [
        "# Logistic Regression\n",
        "\n",
        "In this exercise, you will implement logistic regression\n"
      ]
    },
    {
      "cell_type": "code",
      "execution_count": null,
      "metadata": {
        "id": "wcd1ElkOkjw7"
      },
      "outputs": [],
      "source": [
        "import numpy as np\n",
        "import matplotlib.pyplot as plt\n",
        "import copy\n",
        "import math\n",
        "\n",
        "%matplotlib inline"
      ]
    },
    {
      "cell_type": "markdown",
      "metadata": {
        "id": "6EeJnKb9kjxK"
      },
      "source": [
        "<a name=\"2\"></a>\n",
        "## 2 - Logistic Regression\n",
        "\n",
        "In this part of the exercise, you will build a logistic regression model to predict whether a student gets admitted into a university.\n",
        "\n",
        "<a name=\"2.1\"></a>\n",
        "### 2.1 Problem Statement\n",
        "\n",
        "Suppose that you are the administrator of a university department and you want to determine each applicant’s chance of admission based on their results on two exams.\n",
        "* You have historical data from previous applicants that you can use as a training set for logistic regression.\n",
        "* For each training example, you have the applicant’s scores on two exams and the admissions decision.\n",
        "* Your task is to build a classification model that estimates an applicant’s probability of admission based on the scores from those two exams.\n",
        "\n",
        "<a name=\"2.2\"></a>\n",
        "### 2.2 Loading and visualizing the data\n",
        "\n",
        "You will start by loading the dataset for this task.\n",
        "- The `load_dataset()` function shown below loads the data into variables `X_train` and `y_train`\n",
        "  - `X_train` contains exam scores on two exams for a student\n",
        "  - `y_train` is the admission decision\n",
        "      - `y_train = 1` if the student was admitted\n",
        "      - `y_train = 0` if the student was not admitted\n",
        "  - Both `X_train` and `y_train` are numpy arrays.\n"
      ]
    },
    {
      "cell_type": "markdown",
      "source": [
        "**SYNTHETIC DATA GENERATION**"
      ],
      "metadata": {
        "id": "Z_R2LzMYpnQR"
      }
    },
    {
      "cell_type": "code",
      "execution_count": null,
      "metadata": {
        "id": "dTrroLHdkjxS"
      },
      "outputs": [],
      "source": [
        "#Simply run cell,Do not alter code\n",
        "\n",
        "# Create dataset\n",
        "def create_dataset():\n",
        "    data = np.array([\n",
        "        [34.62365962451697,78.0246928153624,0],\n",
        "        [30.28671076822607,43.89499752400101,0],\n",
        "        [35.84740876993872,72.90219802708364,0],\n",
        "        [60.18259938620976,86.30855209546826,1],\n",
        "        [79.0327360507101,75.3443764369103,1],\n",
        "        [45.08327747668339,56.3163717815305,0],\n",
        "        [61.10666453684766,96.51142588489624,1],\n",
        "        [75.02474556738889,46.55401354116538,1],\n",
        "        [76.09878670226257,87.42056971926803,1],\n",
        "        [84.43281996120035,43.53339331072109,1],\n",
        "        [95.86155507093572,38.22527805795094,0],\n",
        "        [75.01365838958247,30.60326323428011,0],\n",
        "        [82.30705337399482,76.48196330235604,1],\n",
        "        [69.36458875970939,97.71869196188608,1],\n",
        "        [39.53833914367223,76.03681085115882,0],\n",
        "        [53.9710521485623,89.20735013750205,1],\n",
        "        [69.07014406283025,52.74046973016765,1],\n",
        "        [67.94685547711617,46.67857410673128,0],\n",
        "        [70.66150955499435,92.92713789364831,1],\n",
        "        [76.97878372747498,47.57596364975532,1],\n",
        "        [67.37202754570876,42.83843832029179,0],\n",
        "        [89.67677575072079,65.79936592745237,1],\n",
        "        [50.534788289883,48.85581152764205,0],\n",
        "        [34.21206097786789,44.20952859866288,0],\n",
        "        [77.9240914545704,68.9723599933059,1],\n",
        "        [62.27101367004632,69.95445795447587,1],\n",
        "        [80.1901807509566,44.82162893218353,1],\n",
        "        [93.114388797442,38.80067033713209,0],\n",
        "        [61.83020602312595,50.25610789244621,0],\n",
        "        [38.78580379679423,64.99568095539578,0],\n",
        "        [61.379289447425,72.80788731317097,1],\n",
        "        [85.40451939411645,57.05198397627122,1],\n",
        "        [52.10797973193984,63.12762376881715,0],\n",
        "        [52.04540476831827,69.43286012045222,1],\n",
        "        [40.23689373545111,71.16774802184875,0],\n",
        "        [54.63510555424817,52.21388588061123,0],\n",
        "        [33.91550010906887,98.86943574220611,0],\n",
        "        [64.17698887494485,80.90806058670817,1],\n",
        "        [74.78925295941542,41.57341522824434,0],\n",
        "        [34.1836400264419,75.2377203360134,0],\n",
        "        [83.90239366249155,56.30804621605327,1],\n",
        "        [51.54772026906181,46.85629026349976,0],\n",
        "        [94.44336776917852,65.56892160559052,1],\n",
        "        [82.36875375713919,40.61825515970618,0],\n",
        "        [51.04775177128865,45.82270145776001,0],\n",
        "        [62.22267576120188,52.06099194836679,0],\n",
        "        [77.19303492601364,70.45820000180959,1],\n",
        "        [97.77159928000232,86.7278223300282,1],\n",
        "        [62.07306379667647,96.76882412413983,1],\n",
        "        [91.56497449807442,88.69629254546599,1],\n",
        "        [79.94481794066932,74.16311935043758,1],\n",
        "        [99.2725269292572,60.99903099844988,1],\n",
        "        [90.54671411399852,43.39060180650027,1],\n",
        "        [34.52451385320009,60.39634245837173,0],\n",
        "        [50.2864961189907,49.80453881323059,0],\n",
        "        [49.58667721632031,59.80895099453265,0],\n",
        "        [97.64563396007767,68.86157272420604,1],\n",
        "        [32.57720016809309,95.59854761387875,0],\n",
        "        [74.24869136721598,69.82457122657193,1],\n",
        "        [71.79646205863379,78.45356224515052,1],\n",
        "        [75.3956114656803,85.75993667331619,1],\n",
        "        [35.28611281526193,47.02051394723416,0],\n",
        "        [56.25381749711624,39.26147251058019,0],\n",
        "        [30.05882244669796,49.59297386723685,0],\n",
        "        [44.66826172480893,66.45008614558913,0],\n",
        "        [66.56089447242954,41.09209807936973,0],\n",
        "        [40.45755098375164,97.53518548909936,1],\n",
        "        [49.07256321908844,51.88321182073966,0],\n",
        "        [80.27957401466998,92.11606081344084,1],\n",
        "        [66.74671856944039,60.99139402740988,1],\n",
        "        [32.72283304060323,43.30717306430063,0],\n",
        "        [64.0393204150601,78.03168802018232,1],\n",
        "        [72.34649422579923,96.22759296761404,1],\n",
        "        [60.45788573918959,73.09499809758037,1],\n",
        "        [58.84095621726802,75.85844831279042,1],\n",
        "        [99.82785779692128,72.36925193383885,1],\n",
        "        [47.26426910848174,88.47586499559782,1],\n",
        "        [50.45815980285988,75.80985952982456,1],\n",
        "        [60.45555629271532,42.50840943572217,0],\n",
        "        [82.22666157785568,42.71987853716458,0],\n",
        "        [88.9138964166533,69.80378889835472,1],\n",
        "        [94.83450672430196,45.69430680250754,1],\n",
        "        [67.31925746917527,66.58935317747915,1],\n",
        "        [57.23870631569862,59.51428198012956,1],\n",
        "        [80.36675600171273,90.96014789746954,1],\n",
        "        [68.46852178591112,85.59430710452014,1],\n",
        "        [42.0754545384731,78.84478600148043,0],\n",
        "        [75.47770200533905,90.42453899753964,1],\n",
        "        [78.63542434898018,96.64742716885644,1],\n",
        "        [52.34800398794107,60.76950525602592,0],\n",
        "        [94.09433112516793,77.15910509073893,1],\n",
        "        [90.44855097096364,87.50879176484702,1],\n",
        "        [55.48216114069585,35.57070347228866,0],\n",
        "        [74.49269241843041,84.84513684930135,1],\n",
        "        [89.84580670720979,45.35828361091658,1],\n",
        "        [83.48916274498238,48.38028579728175,1],\n",
        "        [42.2617008099817,87.10385094025457,1],\n",
        "        [99.31500880510394,68.77540947206617,1],\n",
        "        [55.34001756003703,64.9319380069486,1],\n",
        "        [74.77589300092767,89.52981289513276,1]\n",
        "    ])\n",
        "    X = data[:, :2]\n",
        "    y = data[:, 2]\n",
        "    return X, y\n",
        "\n",
        "\n",
        "X_train, y_train = create_dataset()"
      ]
    },
    {
      "cell_type": "markdown",
      "metadata": {
        "id": "whaCCWMPkjxY"
      },
      "source": [
        "#### View the variables\n",
        "Let's get more familiar with your dataset.  \n",
        "- A good place to start is to just print out each variable and see what it contains.\n",
        "\n",
        "The code below prints the first five values of `X_train` and the type of the variable."
      ]
    },
    {
      "cell_type": "code",
      "execution_count": null,
      "metadata": {
        "id": "PVsToa5Okjxb",
        "outputId": "562ef69f-b404-4f1d-ca6e-3eea5fbea9b4",
        "colab": {
          "base_uri": "https://localhost:8080/"
        }
      },
      "outputs": [
        {
          "output_type": "stream",
          "name": "stdout",
          "text": [
            "First five elements in X_train are:\n",
            " [[34.62365962 78.02469282]\n",
            " [30.28671077 43.89499752]\n",
            " [35.84740877 72.90219803]\n",
            " [60.18259939 86.3085521 ]\n",
            " [79.03273605 75.34437644]]\n",
            "Type of X_train: <class 'numpy.ndarray'>\n"
          ]
        }
      ],
      "source": [
        "# Print the first five elements of X_train\n",
        "print(\"First five elements in X_train are:\\n\", X_train[:5])\n",
        "print(\"Type of X_train:\", type(X_train))"
      ]
    },
    {
      "cell_type": "markdown",
      "metadata": {
        "id": "P-qjlRB1kjxh"
      },
      "source": [
        "Now print the first five values of `y_train`"
      ]
    },
    {
      "cell_type": "code",
      "execution_count": null,
      "metadata": {
        "id": "kwsuduFWkjxo",
        "outputId": "e3a3f41d-09bf-482f-9069-3c2857416134",
        "colab": {
          "base_uri": "https://localhost:8080/"
        }
      },
      "outputs": [
        {
          "output_type": "stream",
          "name": "stdout",
          "text": [
            "First five elements in y_train are:\n",
            " [0. 0. 0. 1. 1.]\n",
            "Type of y_train: <class 'numpy.ndarray'>\n"
          ]
        }
      ],
      "source": [
        "# Print the first five elements of y_train\n",
        "print(\"First five elements in y_train are:\\n\", y_train[:5])\n",
        "print(\"Type of y_train:\", type(y_train))"
      ]
    },
    {
      "cell_type": "markdown",
      "metadata": {
        "id": "TQGREFsQkjx5"
      },
      "source": [
        "#### Check the dimensions of your variables\n",
        "\n",
        "Another useful way to get familiar with your data is to view its dimensions. Let's print the shape of `X_train` and `y_train` and see how many training examples we have in our dataset."
      ]
    },
    {
      "cell_type": "code",
      "execution_count": null,
      "metadata": {
        "id": "qF4wj0Arkjx7",
        "outputId": "7421b03f-f85a-4b64-8d26-f2f65038041f",
        "colab": {
          "base_uri": "https://localhost:8080/"
        }
      },
      "outputs": [
        {
          "output_type": "stream",
          "name": "stdout",
          "text": [
            "The shape of X_train is: (100, 2)\n",
            "The shape of y_train is: (100,)\n",
            "We have m = 100 training examples\n"
          ]
        }
      ],
      "source": [
        "# Print the dimensions of the variables\n",
        "print('The shape of X_train is: ' + str(X_train.shape))\n",
        "print('The shape of y_train is: ' + str(y_train.shape))\n",
        "print('We have m = %d training examples' % (len(y_train)))"
      ]
    },
    {
      "cell_type": "markdown",
      "metadata": {
        "id": "MBL34yQbkjx8"
      },
      "source": [
        "#### Visualize your data\n",
        "\n",
        "Before starting to implement any learning algorithm, it is always good to visualize the data if possible.\n",
        "- The code below displays the data on a 2D plot (as shown below), where the axes are the two exam scores, and the positive and negative examples are shown with different markers."
      ]
    },
    {
      "cell_type": "code",
      "execution_count": null,
      "metadata": {
        "id": "N0INhiYpkjx-",
        "outputId": "75ec0cb0-6a0a-4d39-d60e-ea4fcab04559",
        "colab": {
          "base_uri": "https://localhost:8080/",
          "height": 542
        }
      },
      "outputs": [
        {
          "output_type": "display_data",
          "data": {
            "text/plain": [
              "<Figure size 1000x600 with 1 Axes>"
            ],
            "image/png": "[encoded data removed]"
          },
          "metadata": {}
        }
      ],
      "source": [
        "# Visualize the data\n",
        "def plot_data(X, y):\n",
        "    admitted = X[y == 1]\n",
        "    not_admitted = X[y == 0]\n",
        "    plt.figure(figsize=(10, 6))\n",
        "    plt.scatter(admitted[:, 0], admitted[:, 1], c='b', label='Admitted')\n",
        "    plt.scatter(not_admitted[:, 0], not_admitted[:, 1], c='r', label='Not Admitted')\n",
        "    plt.xlabel('Exam 1 score')\n",
        "    plt.ylabel('Exam 2 score')\n",
        "    plt.legend()\n",
        "    plt.show()\n",
        "\n",
        "plot_data(X_train, y_train)"
      ]
    },
    {
      "cell_type": "markdown",
      "metadata": {
        "id": "ZETJ78uukjyB"
      },
      "source": [
        "Your goal is to build a logistic regression model to fit this data.\n",
        "- With this model, you can then predict if a new student will be admitted based on their scores on the two exams."
      ]
    },
    {
      "cell_type": "markdown",
      "metadata": {
        "id": "D8Crv_vfkjyC"
      },
      "source": [
        "<a name=\"2.3\"></a>\n",
        "### 2.3  Sigmoid function\n",
        "\n",
        "Recall that for logistic regression, the model is represented as\n",
        "\n",
        "$$ f_{\\mathbf{w},b}(x) = g(\\mathbf{w}\\cdot \\mathbf{x} + b)$$\n",
        "where function $g$ is the sigmoid function. The sigmoid function is defined as:\n",
        "\n",
        "$$g(z) = \\frac{1}{1+e^{-z}}$$\n",
        "\n",
        "Let's implement the sigmoid function first, so it can be used by the rest of this assignment.\n",
        "\n",
        "<a name='ex-01'></a>\n",
        "### Exercise 1\n",
        "Please complete  the `sigmoid` function to calculate\n",
        "\n",
        "$$g(z) = \\frac{1}{1+e^{-z}}$$\n",
        "\n",
        "Note that\n",
        "- `z` is not always a single number, but can also be an array of numbers.\n",
        "- If the input is an array of numbers, we'd like to apply the sigmoid function to each value in the input array."
      ]
    },
    {
      "cell_type": "code",
      "execution_count": null,
      "metadata": {
        "id": "awt08iwYkjyL"
      },
      "outputs": [],
      "source": [
        "# GRADED FUNCTION 1: sigmoid\n",
        "\n",
        "def sigmoid(z):\n",
        "    #Compute the sigmoid of z\n",
        "\n",
        "    #Args:\n",
        "    #    z (ndarray): A scalar, numpy array of any size.\n",
        "\n",
        "    #Returns:\n",
        "    #    g (ndarray): sigmoid(z), with the same shape as z\n",
        "\n",
        "\n",
        "\n",
        "    ### START CODE HERE ###\n",
        "    g = 1 / (1 + np.exp(-z)) #Your code here\n",
        "    ### END SOLUTION ###\n",
        "\n",
        "    return g"
      ]
    },
    {
      "cell_type": "markdown",
      "metadata": {
        "id": "otHhWf44kjyT"
      },
      "source": [
        "When you are finished, try testing a few values by calling `sigmoid(x)` in the cell below.\n",
        "- For large positive values of x, the sigmoid should be close to 1, while for large negative values, the sigmoid should be close to 0.\n",
        "- Evaluating `sigmoid(0)` should give you exactly 0.5.\n"
      ]
    },
    {
      "cell_type": "code",
      "execution_count": null,
      "metadata": {
        "id": "a17kCXSMkjyX",
        "colab": {
          "base_uri": "https://localhost:8080/"
        },
        "outputId": "9944108a-ec69-45e2-9237-76c120033607"
      },
      "outputs": [
        {
          "output_type": "stream",
          "name": "stdout",
          "text": [
            "sigmoid(0) = 0.5\n"
          ]
        }
      ],
      "source": [
        "print (\"sigmoid(0) = \" + str(sigmoid(0)))"
      ]
    },
    {
      "cell_type": "markdown",
      "metadata": {
        "id": "dVBQnOHmkjyZ"
      },
      "source": [
        "**Expected Output**:\n",
        "<table>\n",
        "  <tr>\n",
        "    <td> <b>sigmoid(0)<b></td>\n",
        "    <td> 0.5 </td>\n",
        "  </tr>\n",
        "</table>\n",
        "    \n",
        "- As mentioned before, your code should also work with vectors and matrices. For a matrix, your function should perform the sigmoid function on every element."
      ]
    },
    {
      "cell_type": "markdown",
      "source": [
        "**TEST FUNCTION**"
      ],
      "metadata": {
        "id": "_49OxuABlLB8"
      }
    },
    {
      "cell_type": "code",
      "source": [
        "#Simply run this cell,Dont alter Code\n",
        "#Test function\n",
        "import numpy as np\n",
        "\n",
        "def sigmoid_test(sigmoid_func):\n",
        "    test_cases = [\n",
        "        {\n",
        "            \"input\": np.array([-1, 0, 1, 2]),\n",
        "            \"expected\": np.array([0.26894142, 0.5, 0.73105858, 0.88079708])\n",
        "        },\n",
        "        {\n",
        "            \"input\": np.array([[1, 2], [3, 4]]),\n",
        "            \"expected\": np.array([[0.73105858, 0.88079708],\n",
        "                                  [0.95257413, 0.98201379]])\n",
        "        },\n",
        "        {\n",
        "            \"input\": 0,\n",
        "            \"expected\": 0.5\n",
        "        }\n",
        "    ]\n",
        "\n",
        "    for i, test_case in enumerate(test_cases, 1):\n",
        "        input_data = test_case[\"input\"]\n",
        "        expected_output = test_case[\"expected\"]\n",
        "\n",
        "        print(f\"\\nTest case {i}:\")\n",
        "        print(f\"Input:\")\n",
        "        print(input_data)\n",
        "        print(f\"Expected Output:\")\n",
        "        print(expected_output)\n",
        "\n",
        "        actual_output = sigmoid_func(input_data)\n",
        "        print(f\"Actual Output:\")\n",
        "        print(actual_output)\n",
        "\n",
        "        if isinstance(input_data, (int, float)):\n",
        "            assert np.isclose(actual_output, expected_output), f\"Test case {i} failed\"\n",
        "        else:\n",
        "            assert np.allclose(actual_output, expected_output), f\"Test case {i} failed\"\n",
        "\n",
        "    print(\"\\nAll tests passed!\")\n",
        "\n",
        "sigmoid_test(sigmoid)"
      ],
      "metadata": {
        "id": "hBw9djBho6ed",
        "colab": {
          "base_uri": "https://localhost:8080/"
        },
        "outputId": "546fe63b-007b-440b-d7a4-69e678b19cbf"
      },
      "execution_count": null,
      "outputs": [
        {
          "output_type": "stream",
          "name": "stdout",
          "text": [
            "\n",
            "Test case 1:\n",
            "Input:\n",
            "[-1  0  1  2]\n",
            "Expected Output:\n",
            "[0.26894142 0.5        0.73105858 0.88079708]\n",
            "Actual Output:\n",
            "[0.26894142 0.5        0.73105858 0.88079708]\n",
            "\n",
            "Test case 2:\n",
            "Input:\n",
            "[[1 2]\n",
            " [3 4]]\n",
            "Expected Output:\n",
            "[[0.73105858 0.88079708]\n",
            " [0.95257413 0.98201379]]\n",
            "Actual Output:\n",
            "[[0.73105858 0.88079708]\n",
            " [0.95257413 0.98201379]]\n",
            "\n",
            "Test case 3:\n",
            "Input:\n",
            "0\n",
            "Expected Output:\n",
            "0.5\n",
            "Actual Output:\n",
            "0.5\n",
            "\n",
            "All tests passed!\n"
          ]
        }
      ]
    },
    {
      "cell_type": "markdown",
      "metadata": {
        "id": "pL55zSyjkjyd"
      },
      "source": [
        "**Expected Output**:\n",
        "\n",
        "\n",
        "```\n",
        "Test case 1:\n",
        "Input:\n",
        "[-1  0  1  2]\n",
        "Expected Output:\n",
        "[0.26894142 0.5        0.73105858 0.88079708]\n",
        "\n",
        "Test case 2:\n",
        "Input:\n",
        "[[1 2]\n",
        " [3 4]]\n",
        "Expected Output:\n",
        "[[0.73105858 0.88079708]\n",
        " [0.95257413 0.98201379]]\n",
        "\n",
        "\n",
        "Test case 3:\n",
        "Input:\n",
        "0\n",
        "Expected Output:\n",
        "0.5\n",
        "```\n",
        "\n"
      ]
    },
    {
      "cell_type": "markdown",
      "metadata": {
        "id": "X0pSr0Rtkjye"
      },
      "source": [
        "<a name=\"2.4\"></a>\n",
        "### 2.4 Cost function for logistic regression\n",
        "\n",
        "In this section, you will implement the cost function for logistic regression.\n",
        "\n",
        "<a name='ex-02'></a>\n",
        "### Exercise 2\n",
        "\n",
        "Please complete the `compute_cost` function using the equations below.\n",
        "\n",
        "Recall that for logistic regression, the cost function is of the form\n",
        "\n",
        "$$ J(\\mathbf{w},b) = \\frac{1}{m}\\sum_{i=0}^{m-1} \\left[ loss(f_{\\mathbf{w},b}(\\mathbf{x}^{(i)}), y^{(i)}) \\right] \\tag{1}$$\n",
        "\n",
        "where\n",
        "* m is the number of training examples in the dataset\n",
        "\n",
        "\n",
        "* $loss(f_{\\mathbf{w},b}(\\mathbf{x}^{(i)}), y^{(i)})$ is the cost for a single data point, which is -\n",
        "\n",
        "    $$loss(f_{\\mathbf{w},b}(\\mathbf{x}^{(i)}), y^{(i)}) = (-y^{(i)} \\log\\left(f_{\\mathbf{w},b}\\left( \\mathbf{x}^{(i)} \\right) \\right) - \\left( 1 - y^{(i)}\\right) \\log \\left( 1 - f_{\\mathbf{w},b}\\left( \\mathbf{x}^{(i)} \\right) \\right) \\tag{2}$$\n",
        "    \n",
        "    \n",
        "*  $f_{\\mathbf{w},b}(\\mathbf{x}^{(i)})$ is the model's prediction, while $y^{(i)}$, which is the actual label\n",
        "\n",
        "*  $f_{\\mathbf{w},b}(\\mathbf{x}^{(i)}) = g(\\mathbf{w} \\cdot \\mathbf{x^{(i)}} + b)$ where function $g$ is the sigmoid function.\n",
        "    * It might be helpful to first calculate an intermediate variable $z_{\\mathbf{w},b}(\\mathbf{x}^{(i)}) = \\mathbf{w} \\cdot \\mathbf{x^{(i)}} + b = w_0x^{(i)}_0 + ... + w_{n-1}x^{(i)}_{n-1} + b$ where $n$ is the number of features, before calculating $f_{\\mathbf{w},b}(\\mathbf{x}^{(i)}) = g(z_{\\mathbf{w},b}(\\mathbf{x}^{(i)}))$\n",
        "\n",
        "Note:\n",
        "* As you are doing this, remember that the variables `X_train` and `y_train` are not scalar values but matrices of shape ($m, n$) and ($𝑚$,1) respectively, where  $𝑛$ is the number of features and $𝑚$ is the number of training examples."
      ]
    },
    {
      "cell_type": "code",
      "execution_count": null,
      "metadata": {
        "id": "K0veQXtjkjyg"
      },
      "outputs": [],
      "source": [
        "# GRADED FUNCTION 2: compute_cost\n",
        "def compute_cost(X, y, w, b, lambda_= 1):\n",
        "    #Computes the cost over all examples\n",
        "    #Args:\n",
        "    #  X : (ndarray Shape (m,n)) data, m examples by n features\n",
        "    #  y : (array_like Shape (m,)) target value\n",
        "    #  w : (array_like Shape (n,)) Values of parameters of the model\n",
        "    #  b : scalar Values of bias parameter of the model\n",
        "    #  lambda_: unused placeholder\n",
        "    # Returns:\n",
        "    #  total_cost: (scalar)         cost\n",
        "\n",
        "    m, n = X.shape\n",
        "\n",
        "    ### START CODE HERE ###\n",
        "    cost_sum = 0\n",
        "    for i in range(m):\n",
        "        z = np.dot(X[i], w) + b # Your code here to calculate w[j] * X[i][j]\n",
        "        f_wb = sigmoid(z) # Your code here to calculate prediction f_wb for a training example\n",
        "        cost = - (y[i] * np.log(f_wb) + (1 - y[i]) * np.log(1 - f_wb)) # Your code here to calculate loss for a training example\n",
        "        cost_sum+=cost\n",
        "    total_cost = cost_sum/m\n",
        "\n",
        "    ### END CODE HERE ###\n",
        "\n",
        "    return total_cost"
      ]
    },
    {
      "cell_type": "markdown",
      "metadata": {
        "id": "k6RBFsXRkjyo"
      },
      "source": [
        "Run the cells below to check your implementation of the `compute_cost` function with two different initializations of the parameters $w$"
      ]
    },
    {
      "cell_type": "code",
      "execution_count": null,
      "metadata": {
        "id": "UXI7osRmkjyp",
        "colab": {
          "base_uri": "https://localhost:8080/"
        },
        "outputId": "442a68cc-c485-490a-a383-2e14c8c5c18b"
      },
      "outputs": [
        {
          "output_type": "stream",
          "name": "stdout",
          "text": [
            "Cost at initial w (zeros): 0.693\n"
          ]
        }
      ],
      "source": [
        "m, n = X_train.shape\n",
        "\n",
        "# Compute and display cost with w initialized to zeroes\n",
        "initial_w = np.zeros(n)\n",
        "initial_b = 0.\n",
        "cost = compute_cost(X_train, y_train, initial_w, initial_b)\n",
        "print('Cost at initial w (zeros): {:.3f}'.format(cost))"
      ]
    },
    {
      "cell_type": "markdown",
      "metadata": {
        "id": "3Kb8sDHqkjys"
      },
      "source": [
        "**Expected Output**:\n",
        "<table>\n",
        "  <tr>\n",
        "    <td> <b>Cost at initial w (zeros)<b></td>\n",
        "    <td> 0.693 </td>\n",
        "  </tr>\n",
        "</table>"
      ]
    },
    {
      "cell_type": "markdown",
      "source": [
        "**TEST FUNCTION**"
      ],
      "metadata": {
        "id": "Kk23V1POnH4X"
      }
    },
    {
      "cell_type": "code",
      "source": [
        "#Simply run this cell,Do not alter this\n",
        "#Test Function\n",
        "def compute_cost_test(compute_cost):\n",
        "    def run_test_case(X, y, w, b, expected_cost, case_num):\n",
        "        print(f\"\\nTest Case {case_num}:\")\n",
        "        print(\"Input:\")\n",
        "        print(f\"X = \\n{X}\")\n",
        "        print(f\"y = {y}\")\n",
        "        print(f\"w = {w}\")\n",
        "        print(f\"b = {b}\")\n",
        "        print(f\"Expected Output: {expected_cost}\")\n",
        "\n",
        "        result = compute_cost(X, y, w, b)\n",
        "        print(f\"Actual Output: {result}\")\n",
        "\n",
        "        assert np.isclose(result, expected_cost, rtol=1e-6), f\"Test case {case_num} failed. Expected {expected_cost}, but got {result}\"\n",
        "\n",
        "    # Test Case 1\n",
        "    np.random.seed(17)\n",
        "    X = np.random.randn(5, 2)\n",
        "    y = np.array([1, 0, 0, 1, 1])\n",
        "    w = np.random.randn(2)\n",
        "    b = 0\n",
        "    expected_cost = 2.15510667\n",
        "    run_test_case(X, y, w, b, expected_cost, 2)\n",
        "\n",
        "    # Test Case 2\n",
        "    X = np.random.randn(4, 3)\n",
        "    y = np.array([1, 1, 0, 0])\n",
        "    w = np.random.randn(3)\n",
        "    b = 0\n",
        "    expected_cost = 0.80709376\n",
        "    run_test_case(X, y, w, b, expected_cost, 3)\n",
        "\n",
        "    # Test Case 3\n",
        "    X = np.random.randn(4, 3)\n",
        "    y = np.array([1, 0, 1, 0])\n",
        "    w = np.random.randn(3)\n",
        "    b = 3\n",
        "    expected_cost = 0.4529660647\n",
        "    run_test_case(X, y, w, b, expected_cost, 4)\n",
        "\n",
        "    print('\\nAll tests passed!')\n",
        "\n",
        "# Run the test\n",
        "compute_cost_test(compute_cost)"
      ],
      "metadata": {
        "id": "SPAUkbLprtrv",
        "colab": {
          "base_uri": "https://localhost:8080/"
        },
        "outputId": "1e91d10a-3339-451d-e6a4-de007cc976d8"
      },
      "execution_count": null,
      "outputs": [
        {
          "output_type": "stream",
          "name": "stdout",
          "text": [
            "\n",
            "Test Case 2:\n",
            "Input:\n",
            "X = \n",
            "[[ 0.27626589 -1.85462808]\n",
            " [ 0.62390111  1.14531129]\n",
            " [ 1.03719047  1.88663893]\n",
            " [-0.11169829 -0.36210134]\n",
            " [ 0.14867505 -0.43778315]]\n",
            "y = [1 0 0 1 1]\n",
            "w = [2.171257   1.15231025]\n",
            "b = 0\n",
            "Expected Output: 2.15510667\n",
            "Actual Output: 2.155106676390939\n",
            "\n",
            "Test Case 3:\n",
            "Input:\n",
            "X = \n",
            "[[-1.81881234 -0.13804934  0.53983961]\n",
            " [-1.77528229  1.31487654 -0.47344805]\n",
            " [-1.0922299  -0.25002744 -0.9822943 ]\n",
            " [ 1.03126909  0.49133378 -0.4466466 ]]\n",
            "y = [1 1 0 0]\n",
            "w = [-0.80636008  0.13126776 -1.21256024]\n",
            "b = 0\n",
            "Expected Output: 0.80709376\n",
            "Actual Output: 0.8070937692934406\n",
            "\n",
            "Test Case 4:\n",
            "Input:\n",
            "X = \n",
            "[[ 0.15999085 -0.75522304  0.34989599]\n",
            " [ 0.97754176 -0.13858525  0.10385631]\n",
            " [ 0.30059104  0.9682053   0.86962384]\n",
            " [ 0.56778309  0.46528234 -1.16537308]]\n",
            "y = [1 0 1 0]\n",
            "w = [-2.03599479 -1.15541329  3.34515739]\n",
            "b = 3\n",
            "Expected Output: 0.4529660647\n",
            "Actual Output: 0.45296606471894846\n",
            "\n",
            "All tests passed!\n"
          ]
        }
      ]
    },
    {
      "cell_type": "markdown",
      "source": [
        "**EXPECTED OUTPUT**"
      ],
      "metadata": {
        "id": "qY39q9UjnQg0"
      }
    },
    {
      "cell_type": "markdown",
      "source": [
        "\n",
        "\n",
        "```\n",
        "Test Case 2:\n",
        "Input:\n",
        "X =\n",
        "[[ 0.27626589 -1.85462808]\n",
        " [ 0.62390111  1.14531129]\n",
        " [ 1.03719047  1.88663893]\n",
        " [-0.11169829 -0.36210134]\n",
        " [ 0.14867505 -0.43778315]]\n",
        "y = [1 0 0 1 1]\n",
        "w = [2.171257   1.15231025]\n",
        "b = 0\n",
        "Expected Output: 2.15510667\n",
        "\n",
        "\n",
        "Test Case 3:\n",
        "Input:\n",
        "X =\n",
        "[[-1.81881234 -0.13804934  0.53983961]\n",
        " [-1.77528229  1.31487654 -0.47344805]\n",
        " [-1.0922299  -0.25002744 -0.9822943 ]\n",
        " [ 1.03126909  0.49133378 -0.4466466 ]]\n",
        "y = [1 1 0 0]\n",
        "w = [-0.80636008  0.13126776 -1.21256024]\n",
        "b = 0\n",
        "Expected Output: 0.80709376\n",
        "\n",
        "\n",
        "Test Case 4:\n",
        "Input:\n",
        "X =\n",
        "[[ 0.15999085 -0.75522304  0.34989599]\n",
        " [ 0.97754176 -0.13858525  0.10385631]\n",
        " [ 0.30059104  0.9682053   0.86962384]\n",
        " [ 0.56778309  0.46528234 -1.16537308]]\n",
        "y = [1 0 1 0]\n",
        "w = [-2.03599479 -1.15541329  3.34515739]\n",
        "b = 3\n",
        "Expected Output: 0.4529660647\n",
        "```\n",
        "\n"
      ],
      "metadata": {
        "id": "txtwb1EwsjSE"
      }
    },
    {
      "cell_type": "markdown",
      "metadata": {
        "id": "LoPgYbh_kjyv"
      },
      "source": [
        "<a name=\"2.5\"></a>\n",
        "### 2.5 Gradient for logistic regression\n",
        "\n",
        "In this section, you will implement the gradient for logistic regression.\n",
        "\n",
        "Recall that the gradient descent algorithm is:\n",
        "\n",
        "$$\\begin{align*}& \\text{repeat until convergence:} \\; \\lbrace \\newline \\; & b := b -  \\alpha \\frac{\\partial J(\\mathbf{w},b)}{\\partial b} \\newline       \\; & w_j := w_j -  \\alpha \\frac{\\partial J(\\mathbf{w},b)}{\\partial w_j} \\tag{1}  \\; & \\text{for j := 0..n-1}\\newline & \\rbrace\\end{align*}$$\n",
        "\n",
        "where, parameters $b$, $w_j$ are all updated simultaniously"
      ]
    },
    {
      "cell_type": "markdown",
      "metadata": {
        "id": "07cv6r5Rkjyw"
      },
      "source": [
        "\n",
        "<a name='ex-03'></a>\n",
        "### Exercise 3\n",
        "\n",
        "Please complete the `compute_gradient` function to compute $\\frac{\\partial J(\\mathbf{w},b)}{\\partial w}$, $\\frac{\\partial J(\\mathbf{w},b)}{\\partial b}$ from equations (2) and (3) below.\n",
        "\n",
        "$$\n",
        "\\frac{\\partial J(\\mathbf{w},b)}{\\partial b}  = \\frac{1}{m} \\sum\\limits_{i = 0}^{m-1} (f_{\\mathbf{w},b}(\\mathbf{x}^{(i)}) - \\mathbf{y}^{(i)}) \\tag{2}\n",
        "$$\n",
        "$$\n",
        "\\frac{\\partial J(\\mathbf{w},b)}{\\partial w_j}  = \\frac{1}{m} \\sum\\limits_{i = 0}^{m-1} (f_{\\mathbf{w},b}(\\mathbf{x}^{(i)}) - \\mathbf{y}^{(i)})x_{j}^{(i)} \\tag{3}\n",
        "$$\n",
        "* m is the number of training examples in the dataset\n",
        "\n",
        "    \n",
        "*  $f_{\\mathbf{w},b}(x^{(i)})$ is the model's prediction, while $y^{(i)}$ is the actual label\n",
        "\n",
        "\n",
        "- **Note**: While this gradient looks identical to the linear regression gradient, the formula is actually different because linear and logistic regression have different definitions of $f_{\\mathbf{w},b}(x)$."
      ]
    },
    {
      "cell_type": "code",
      "execution_count": null,
      "metadata": {
        "id": "ZSFR6a2ukjyx"
      },
      "outputs": [],
      "source": [
        "# GRADED FUNCTION 3: compute_gradient\n",
        "def compute_gradient(X, y, w, b, lambda_=None):\n",
        "    #Computes the gradient for logistic regression\n",
        "\n",
        "    #Args:\n",
        "    #  X : (ndarray Shape (m,n)) variable such as house size\n",
        "    #  y : (array_like Shape (m,1)) actual value\n",
        "    #  w : (array_like Shape (n,1)) values of parameters of the model\n",
        "    #  b : (scalar)                 value of parameter of the model\n",
        "    #  lambda_: unused placeholder.\n",
        "    #Returns\n",
        "    #  dj_dw: (array_like Shape (n,1)) The gradient of the cost w.r.t. the parameters w.\n",
        "    #  dj_db: (scalar)                The gradient of the cost w.r.t. the parameter b.\n",
        "\n",
        "    m, n = X.shape\n",
        "    dj_dw = np.zeros(w.shape)\n",
        "    dj_db = 0.\n",
        "\n",
        "    ### START CODE HERE ###\n",
        "    for i in range(m):\n",
        "       # Calculate f_wb (exactly as you did in the compute_cost function above)\n",
        "        z = np.dot(X[i], w) + b\n",
        "        f_wb_i = sigmoid(z) # Your code here\n",
        "\n",
        "        err_i  = f_wb_i - y[i] # Your code here to calculate the error\n",
        "\n",
        "        # get dj_dw for each attribute\n",
        "        for j in range(n):\n",
        "          # You code here to calculate the gradient from the i-th example for j-th attribute\n",
        "            dj_dw[j] = dj_dw[j] + err_i * X[i][j] # Your code here\n",
        "        dj_db = dj_db + err_i\n",
        "\n",
        "    # divide dj_db and dj_dw by total number of examples\n",
        "    dj_dw = dj_dw/m\n",
        "    dj_db = dj_db/m\n",
        "\n",
        "    ### END CODE HERE ###\n",
        "\n",
        "\n",
        "    return dj_db, dj_dw"
      ]
    },
    {
      "cell_type": "markdown",
      "metadata": {
        "id": "MWM6l_HNkjzB"
      },
      "source": [
        "Run the cells below to check your implementation of the `compute_gradient` function with two different initializations of the parameters $w$"
      ]
    },
    {
      "cell_type": "code",
      "execution_count": null,
      "metadata": {
        "id": "ioO4KSAWkjzE",
        "colab": {
          "base_uri": "https://localhost:8080/"
        },
        "outputId": "005d3d09-bd89-42e3-be06-5c285a7991a1"
      },
      "outputs": [
        {
          "output_type": "stream",
          "name": "stdout",
          "text": [
            "dj_db at initial w (zeros):-0.1\n",
            "dj_dw at initial w (zeros):[-12.00921658929115, -11.262842205513591]\n"
          ]
        }
      ],
      "source": [
        "# Compute and display gradient with w initialized to zeroes\n",
        "initial_w = np.zeros(n)\n",
        "initial_b = 0.\n",
        "\n",
        "dj_db, dj_dw = compute_gradient(X_train, y_train, initial_w, initial_b)\n",
        "print(f'dj_db at initial w (zeros):{dj_db}' )\n",
        "print(f'dj_dw at initial w (zeros):{dj_dw.tolist()}' )"
      ]
    },
    {
      "cell_type": "markdown",
      "metadata": {
        "id": "aIxIiEU0kjzL"
      },
      "source": [
        "**Expected Output**:\n",
        "<table>\n",
        "  <tr>\n",
        "    <td> <b>dj_db at initial w (zeros)<b></td>\n",
        "    <td> -0.1 </td>\n",
        "  </tr>\n",
        "  <tr>\n",
        "    <td> <b>ddj_dw at initial w (zeros):<b></td>\n",
        "    <td> [-12.00921658929115, -11.262842205513591] </td>\n",
        "  </tr>\n",
        "</table>"
      ]
    },
    {
      "cell_type": "markdown",
      "source": [
        "**TEST FUNCTION**"
      ],
      "metadata": {
        "id": "YKFRWVkioqxt"
      }
    },
    {
      "cell_type": "code",
      "source": [
        "#Simply run this cell,Do not alter this code\n",
        "#Test Function\n",
        "def compute_gradient_test(compute_gradient):\n",
        "    def run_test_case(X, y, w, b, expected_dj_db, expected_dj_dw, case_num):\n",
        "        print(f\"\\nTest Case {case_num}:\")\n",
        "        print(\"Input:\")\n",
        "        print(f\"X = \\n{X}\")\n",
        "        print(f\"y = {y}\")\n",
        "        print(f\"w = {w}\")\n",
        "        print(f\"b = {b}\")\n",
        "        print(f\"Expected Output:\")\n",
        "        print(f\"dj_db = {expected_dj_db}\")\n",
        "        print(f\"dj_dw = {expected_dj_dw}\")\n",
        "\n",
        "        dj_db, dj_dw = compute_gradient(X, y, w, b)\n",
        "        print(\"Actual Output:\")\n",
        "        print(f\"dj_db = {dj_db}\")\n",
        "        print(f\"dj_dw = {dj_dw}\")\n",
        "\n",
        "        assert np.isclose(dj_db, expected_dj_db, rtol=1e-6), f\"Test case {case_num} failed for dj_db. Expected {expected_dj_db}, but got {dj_db}\"\n",
        "        assert dj_dw.shape == expected_dj_dw.shape, f\"Test case {case_num} failed. Wrong shape for dj_dw. Expected: {expected_dj_dw.shape} got: {dj_dw.shape}\"\n",
        "        assert np.allclose(dj_dw, expected_dj_dw, rtol=1e-6), f\"Test case {case_num} failed for dj_dw. Expected {expected_dj_dw}, but got {dj_dw}\"\n",
        "\n",
        "    # Test Case\n",
        "    np.random.seed(1)\n",
        "    X = np.random.randn(7, 3)\n",
        "    y = np.array([1, 0, 1, 0, 1, 1, 0])\n",
        "    w = np.array([1, 0.5, -0.35])\n",
        "    b = 1.7\n",
        "    expected_dj_db = 0.28936094\n",
        "    expected_dj_dw = np.array([-0.11999166, 0.41498775, -0.71968405])\n",
        "    run_test_case(X, y, w, b, expected_dj_db, expected_dj_dw, 1)\n",
        "\n",
        "compute_gradient_test(compute_gradient)"
      ],
      "metadata": {
        "id": "B3aja3rAvy31",
        "colab": {
          "base_uri": "https://localhost:8080/"
        },
        "outputId": "eda6e567-b42c-404f-cb71-a61220225469"
      },
      "execution_count": null,
      "outputs": [
        {
          "output_type": "stream",
          "name": "stdout",
          "text": [
            "\n",
            "Test Case 1:\n",
            "Input:\n",
            "X = \n",
            "[[ 1.62434536 -0.61175641 -0.52817175]\n",
            " [-1.07296862  0.86540763 -2.3015387 ]\n",
            " [ 1.74481176 -0.7612069   0.3190391 ]\n",
            " [-0.24937038  1.46210794 -2.06014071]\n",
            " [-0.3224172  -0.38405435  1.13376944]\n",
            " [-1.09989127 -0.17242821 -0.87785842]\n",
            " [ 0.04221375  0.58281521 -1.10061918]]\n",
            "y = [1 0 1 0 1 1 0]\n",
            "w = [ 1.    0.5  -0.35]\n",
            "b = 1.7\n",
            "Expected Output:\n",
            "dj_db = 0.28936094\n",
            "dj_dw = [-0.11999166  0.41498775 -0.71968405]\n",
            "Actual Output:\n",
            "dj_db = 0.28936094135220813\n",
            "dj_dw = [-0.11999166  0.41498775 -0.71968405]\n"
          ]
        }
      ]
    },
    {
      "cell_type": "markdown",
      "metadata": {
        "id": "19FzPTGOkjzy"
      },
      "source": [
        "<a name=\"2.7\"></a>\n",
        "### 2.7 Evaluating logistic regression\n",
        "\n",
        "We can evaluate the quality of the parameters we have found by seeing how well the learned model predicts on our training set.\n",
        "\n",
        "You will implement the `predict` function below to do this.\n"
      ]
    },
    {
      "cell_type": "markdown",
      "metadata": {
        "id": "c59xWFcYkjzz"
      },
      "source": [
        "<a name='ex-04'></a>\n",
        "### Exercise 4\n",
        "\n",
        "Please complete the `predict` function to produce `1` or `0` predictions given a dataset and a learned parameter vector $w$ and $b$.\n",
        "- First you need to compute the prediction from the model $f(x^{(i)}) = g(w \\cdot x^{(i)})$ for every example\n",
        "    - You've implemented this before in the parts above\n",
        "- We interpret the output of the model ($f(x^{(i)})$) as the probability that $y^{(i)}=1$ given $x^{(i)}$ and parameterized by $w$.\n",
        "- Therefore, to get a final prediction ($y^{(i)}=0$ or $y^{(i)}=1$) from the logistic regression model, you can use the following heuristic -\n",
        "\n",
        "  if $f(x^{(i)}) >= 0.5$, predict $y^{(i)}=1$\n",
        "  \n",
        "  if $f(x^{(i)}) < 0.5$, predict $y^{(i)}=0$\n",
        "    \n",
        "If you get stuck, you can check out the hints presented after the cell below to help you with the implementation."
      ]
    },
    {
      "cell_type": "code",
      "execution_count": null,
      "metadata": {
        "id": "DHBo4Rt5kjz2"
      },
      "outputs": [],
      "source": [
        "# GRADED FUNCTION 4: predict\n",
        "\n",
        "def predict(X, w, b):\n",
        "    #Predict whether the label is 0 or 1 using learned logistic\n",
        "    #regression parameters w\n",
        "\n",
        "    #Args:\n",
        "    #X : (ndarray Shape (m, n))\n",
        "    #w : (array_like Shape (n,))      Parameters of the model\n",
        "    #b : (scalar, float)              Parameter of the model\n",
        "\n",
        "    #Returns:\n",
        "    #p: (ndarray (m,1))\n",
        "    #    The predictions for X using a threshold at 0.5\n",
        "\n",
        "    # number of training examples\n",
        "    m, n = X.shape\n",
        "    p = np.zeros(m)\n",
        "\n",
        "    ### START CODE HERE ###\n",
        "    # Loop over each example\n",
        "    for i in range(m):\n",
        "\n",
        "        # Calculate f_wb (exactly how you did it in the compute_cost function above)\n",
        "        # using a couple of lines of code\n",
        "        z = np.dot(X[i], w) + b\n",
        "        f_wb = sigmoid(z) # Your code here\n",
        "\n",
        "        # Apply the threshold\n",
        "        # Calculate the prediction for that training example\n",
        "        # Your code here to calculate the prediction based on f_wb\n",
        "        if f_wb >= 0.5 :\n",
        "            p[i] = 1\n",
        "        else :\n",
        "            p[i] = 0\n",
        "\n",
        "    ### END CODE HERE ###\n",
        "    return p"
      ]
    },
    {
      "cell_type": "markdown",
      "metadata": {
        "id": "s-YAKE-okjz9"
      },
      "source": [
        "Once you have completed the function `predict`, let's run the code below to report the training accuracy of your classifier by computing the percentage of examples it got correct."
      ]
    },
    {
      "cell_type": "markdown",
      "source": [
        "**TEST FUNCTION**"
      ],
      "metadata": {
        "id": "b84wg-hPpfte"
      }
    },
    {
      "cell_type": "code",
      "execution_count": null,
      "metadata": {
        "id": "gTODUxUPkjz-",
        "colab": {
          "base_uri": "https://localhost:8080/"
        },
        "outputId": "cfb14c2d-dee3-4ba5-f840-2156a2fbff80"
      },
      "outputs": [
        {
          "output_type": "stream",
          "name": "stdout",
          "text": [
            "\n",
            "Test Case 1:\n",
            "Input:\n",
            "X = \n",
            "[[-0.25209213  0.10960984  1.58248112]\n",
            " [-0.9092324  -0.59163666  0.18760323]\n",
            " [-0.32986996 -1.19276461 -0.20487651]\n",
            " [-0.35882895  0.6034716  -1.66478853]\n",
            " [-0.70017904  1.15139101  1.85733101]\n",
            " [-1.51117956  0.64484751 -0.98060789]\n",
            " [-0.85685315 -0.87187918 -0.42250793]\n",
            " [ 0.99643983  0.71242127  0.05914424]]\n",
            "w = [ 0.44122749 -0.33087015  2.43077119]\n",
            "b = 0.5\n",
            "Expected Output: [1. 1. 1. 0. 1. 0. 0. 1.]\n",
            "Actual Output: [1. 1. 1. 0. 1. 0. 0. 1.]\n",
            "\n",
            "Test Case 2:\n",
            "Input:\n",
            "X = \n",
            "[[-0.63157163 -0.00619491 -0.10106761 -0.05230815]\n",
            " [ 0.24921766  0.19766009  1.33484857 -0.08687561]\n",
            " [ 1.56153229 -0.30585302 -0.47773142  0.10073819]\n",
            " [ 0.35543847  0.26961241  1.29196338  1.13934298]\n",
            " [ 0.4944404  -0.33633626 -0.10061435  1.41339802]\n",
            " [ 0.22125412 -1.31077313 -0.68956523 -0.57751323]]\n",
            "w = [0.23668912 0.60328884 0.49406956 1.39305332]\n",
            "b = -1.7\n",
            "Expected Output: [0. 0. 0. 1. 1. 0.]\n",
            "Actual Output: [0. 0. 0. 1. 1. 0.]\n",
            "\n",
            "Test Case 3:\n",
            "Input:\n",
            "X = \n",
            "[[ 1.15220477 -0.10716398]\n",
            " [ 2.26010677  0.65661947]\n",
            " [ 0.12480683 -0.43570392]\n",
            " [ 0.97217931 -0.24071114]\n",
            " [-0.82412345  0.56813272]]\n",
            "w = [0. 0.]\n",
            "b = -10\n",
            "Expected Output: [0. 0. 0. 0. 0.]\n",
            "Actual Output: [0. 0. 0. 0. 0.]\n",
            "\n",
            "Test Case 4:\n",
            "Input:\n",
            "X = \n",
            "[[ 0.01275832  1.18906073]\n",
            " [-0.07359332 -2.85968797]\n",
            " [ 0.7893664  -1.87774088]\n",
            " [ 1.53875615  1.82136474]]\n",
            "w = [1. 1.]\n",
            "b = 10\n",
            "Expected Output: [1. 1. 1. 1.]\n",
            "Actual Output: [1. 1. 1. 1.]\n",
            "\n",
            "All tests passed!\n"
          ]
        }
      ],
      "source": [
        "#Simply run this cell,Do not alter it\n",
        "# Test function\n",
        "import numpy as np\n",
        "\n",
        "def predict_test(predict):\n",
        "    def run_test_case(X, w, b, expected_output, case_num):\n",
        "        print(f\"\\nTest Case {case_num}:\")\n",
        "        print(\"Input:\")\n",
        "        print(f\"X = \\n{X}\")\n",
        "        print(f\"w = {w}\")\n",
        "        print(f\"b = {b}\")\n",
        "        print(f\"Expected Output: {expected_output}\")\n",
        "\n",
        "        result = predict(X, w, b)\n",
        "        print(f\"Actual Output: {result}\")\n",
        "\n",
        "        assert result.shape == (len(X),), f\"Test case {case_num} failed. Wrong shape. Expected: {(len(X),)}, got: {result.shape}\"\n",
        "        assert np.allclose(result, expected_output), f\"Test case {case_num} failed. Expected: {expected_output}, got: {result}\"\n",
        "\n",
        "    # Test Case 1\n",
        "    np.random.seed(5)\n",
        "    b = 0.5\n",
        "    w = np.random.randn(3)\n",
        "    X = np.random.randn(8, 3)\n",
        "    expected_output = np.array([1., 1., 1., 0., 1., 0., 0., 1.])\n",
        "    run_test_case(X, w, b, expected_output, 1)\n",
        "\n",
        "    # Test Case 2\n",
        "    b = -1.7\n",
        "    w = np.random.randn(4) + 0.6\n",
        "    X = np.random.randn(6, 4)\n",
        "    expected_output = np.array([0., 0., 0., 1., 1., 0.])\n",
        "    run_test_case(X, w, b, expected_output, 2)\n",
        "\n",
        "    # Test Case 3: Edge case with all predictions = 0\n",
        "    b = -10\n",
        "    w = np.zeros(2)\n",
        "    X = np.random.randn(5, 2)\n",
        "    expected_output = np.zeros(5)\n",
        "    run_test_case(X, w, b, expected_output, 3)\n",
        "\n",
        "    # Test Case 4: Edge case with all predictions = 1\n",
        "    b = 10\n",
        "    w = np.ones(2)\n",
        "    X = np.random.randn(4, 2)\n",
        "    expected_output = np.ones(4)\n",
        "    run_test_case(X, w, b, expected_output, 4)\n",
        "\n",
        "    print('\\nAll tests passed!')\n",
        "\n",
        "# Example usage:\n",
        "predict_test(predict)"
      ]
    },
    {
      "cell_type": "markdown",
      "metadata": {
        "id": "6eqbFDsikjz_"
      },
      "source": [
        "**Expected output**\n",
        "\n",
        "\n",
        "\n",
        "```\n",
        "Test Case 1:\n",
        "Input:\n",
        "X =\n",
        "[[-0.25209213  0.10960984  1.58248112]\n",
        " [-0.9092324  -0.59163666  0.18760323]\n",
        " [-0.32986996 -1.19276461 -0.20487651]\n",
        " [-0.35882895  0.6034716  -1.66478853]\n",
        " [-0.70017904  1.15139101  1.85733101]\n",
        " [-1.51117956  0.64484751 -0.98060789]\n",
        " [-0.85685315 -0.87187918 -0.42250793]\n",
        " [ 0.99643983  0.71242127  0.05914424]]\n",
        "w = [ 0.44122749 -0.33087015  2.43077119]\n",
        "b = 0.5\n",
        "Expected Output: [1. 1. 1. 0. 1. 0. 0. 1.]\n",
        "\n",
        "\n",
        "Test Case 2:\n",
        "Input:\n",
        "X =\n",
        "[[-0.63157163 -0.00619491 -0.10106761 -0.05230815]\n",
        " [ 0.24921766  0.19766009  1.33484857 -0.08687561]\n",
        " [ 1.56153229 -0.30585302 -0.47773142  0.10073819]\n",
        " [ 0.35543847  0.26961241  1.29196338  1.13934298]\n",
        " [ 0.4944404  -0.33633626 -0.10061435  1.41339802]\n",
        " [ 0.22125412 -1.31077313 -0.68956523 -0.57751323]]\n",
        "w = [0.23668912 0.60328884 0.49406956 1.39305332]\n",
        "b = -1.7\n",
        "Expected Output: [0. 0. 0. 1. 1. 0.]\n",
        "\n",
        "\n",
        "Test Case 3:\n",
        "Input:\n",
        "X =\n",
        "[[ 1.15220477 -0.10716398]\n",
        " [ 2.26010677  0.65661947]\n",
        " [ 0.12480683 -0.43570392]\n",
        " [ 0.97217931 -0.24071114]\n",
        " [-0.82412345  0.56813272]]\n",
        "w = [0. 0.]\n",
        "b = -10\n",
        "Expected Output: [0. 0. 0. 0. 0.]\n",
        "\n",
        "\n",
        "Test Case 4:\n",
        "Input:\n",
        "X =\n",
        "[[ 0.01275832  1.18906073]\n",
        " [-0.07359332 -2.85968797]\n",
        " [ 0.7893664  -1.87774088]\n",
        " [ 1.53875615  1.82136474]]\n",
        "w = [1. 1.]\n",
        "b = 10\n",
        "Expected Output: [1. 1. 1. 1.]\n",
        "```\n",
        "\n"
      ]
    }
  ],
  "metadata": {
    "kernelspec": {
      "display_name": "Python 3",
      "language": "python",
      "name": "python3"
    },
    "language_info": {
      "codemirror_mode": {
        "name": "ipython",
        "version": 3
      },
      "file_extension": ".py",
      "mimetype": "text/x-python",
      "name": "python",
      "nbconvert_exporter": "python",
      "pygments_lexer": "ipython3",
      "version": "3.7.6"
    },
    "colab": {
      "provenance": [],
      "include_colab_link": true
    }
  },
  "nbformat": 4,
  "nbformat_minor": 0
}