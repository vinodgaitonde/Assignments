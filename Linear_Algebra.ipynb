{
  "cells": [
    {
      "cell_type": "markdown",
      "metadata": {
        "id": "view-in-github",
        "colab_type": "text"
      },
      "source": [
        "<a href=\"https://colab.research.google.com/github/vinodgaitonde/Assignments/blob/main/Linear_Algebra.ipynb\" target=\"_parent\"><img src=\"https://colab.research.google.com/assets/colab-badge.svg\" alt=\"Open In Colab\"/></a>"
      ]
    },
    {
      "cell_type": "markdown",
      "metadata": {
        "id": "4FiidjtPivw5"
      },
      "source": [
        "## Linear Algebra and Calculus Assignment\n",
        "##### Introduction\n",
        "This assignment covers three main topics: Linear Algebra, Calculus, and Data Processing and visualisation techniques. You will implement Principal Component Analysis (PCA) for image compression and a basic gradient descent algorithm for linear regression. After that you will work on solving problems posed on tabular data with the help of pandas library.\n",
        "### Part 1: Linear Algebra - Principal Component Analysis (PCA)\n",
        "Problem Statement - **Implement PCA to compress a grayscale image**  \n",
        "Break down the PCA algorithm into the following steps:\n",
        "\n",
        "1. Load and preprocess the image\n",
        "2. Compute the covariance matrix\n",
        "3. Compute eigenvectors and eigenvalues\n",
        "4. Select top k eigenvectors\n",
        "5. Project the data onto the new subspace\n",
        "6. Reconstruct the compressed image\n",
        "7. Bring it all together in the main function\n",
        "\n",
        "\n",
        "<div>\n",
        "  <a href=\"https://colab.research.google.com/github/emharsha1812/CCE_Assignment/blob/main/Assignments/Linear_Algebra.ipynb\" target=\"_parent\">\n",
        "    <img src=\"https://colab.research.google.com/assets/colab-badge.svg\" alt=\"Open In Colab\"/>\n",
        "  </a>\n",
        "</div>"
      ]
    },
    {
      "cell_type": "markdown",
      "metadata": {
        "id": "GMHSzIyzivw9"
      },
      "source": [
        "### 1.0 Loading and preprocessing the image  \n",
        "\n",
        "**Already Done**  Load a grayscale image using an appropriate library  \n",
        "**Already Done**: Reshape the image into a 2D array where each row represents a pixel"
      ]
    },
    {
      "cell_type": "code",
      "execution_count": null,
      "metadata": {
        "id": "2mWKQoQgivw-",
        "outputId": "20194da5-0ef2-4899-ce5c-f2c5ed949e14",
        "colab": {
          "base_uri": "https://localhost:8080/",
          "height": 487
        }
      },
      "outputs": [
        {
          "output_type": "display_data",
          "data": {
            "text/plain": [
              "<Figure size 640x480 with 1 Axes>"
            ],
            "image/png": "[encoded data removed]"
          },
          "metadata": {}
        },
        {
          "output_type": "stream",
          "name": "stdout",
          "text": [
            "Original image shape: (8, 8)\n",
            "Total number of pixels: 64\n"
          ]
        }
      ],
      "source": [
        "# IMP - We've provided the code to load and preprocess the image data. You don't need to modify this section.\n",
        "\n",
        "import numpy as np\n",
        "import matplotlib.pyplot as plt\n",
        "from sklearn.datasets import load_digits\n",
        "\n",
        "# Load the digits dataset\n",
        "digits = load_digits()\n",
        "X = digits.data\n",
        "y = digits.target\n",
        "\n",
        "# Reshape the first image\n",
        "image = X[0].reshape(8, 8)\n",
        "\n",
        "# Display the original image\n",
        "plt.imshow(image, cmap='gray')\n",
        "plt.title('Original Image')\n",
        "plt.show()\n",
        "\n",
        "print(f\"Original image shape: {image.shape}\")\n",
        "print(f\"Total number of pixels: {image.size}\")"
      ]
    },
    {
      "cell_type": "markdown",
      "metadata": {
        "id": "JHkChyGWivw_"
      },
      "source": [
        "### 1.1 Compute the covariance matrix\n",
        "\n",
        "**TODO**: Center the data by subtracting the mean of each feature  \n",
        "**TODO**: Compute the covariance matrix of the centered data"
      ]
    },
    {
      "cell_type": "code",
      "execution_count": null,
      "metadata": {
        "id": "QlVKUTxtivxA",
        "colab": {
          "base_uri": "https://localhost:8080/"
        },
        "outputId": "d49e80bb-d19b-4235-e7ed-c9f7add184d4"
      },
      "outputs": [
        {
          "output_type": "stream",
          "name": "stdout",
          "text": [
            "[[ 0.  0.  5. 13.  9.  1.  0.  0.]\n",
            " [ 0.  0. 13. 15. 10. 15.  5.  0.]\n",
            " [ 0.  3. 15.  2.  0. 11.  8.  0.]\n",
            " [ 0.  4. 12.  0.  0.  8.  8.  0.]\n",
            " [ 0.  5.  8.  0.  0.  9.  8.  0.]\n",
            " [ 0.  4. 11.  0.  1. 12.  7.  0.]\n",
            " [ 0.  2. 14.  5. 10. 12.  0.  0.]\n",
            " [ 0.  0.  6. 13. 10.  0.  0.  0.]]\n",
            "[[25.42857143 23.14285714 -3.5        -6.28571429 -8.         -6.64285714\n",
            "  12.35714286 26.78571429]\n",
            " [23.14285714 46.21428571 21.03571429 12.          8.78571429 16.32142857\n",
            "  32.17857143 23.25      ]\n",
            " [-3.5        21.03571429 33.26785714 26.85714286 21.67857143 27.76785714\n",
            "  21.19642857 -3.625     ]\n",
            " [-6.28571429 12.         26.85714286 22.85714286 18.85714286 22.85714286\n",
            "  14.28571429 -6.28571429]\n",
            " [-8.          8.78571429 21.67857143 18.85714286 17.35714286 20.10714286\n",
            "   9.82142857 -8.67857143]\n",
            " [-6.64285714 16.32142857 27.76785714 22.85714286 20.10714286 25.41071429\n",
            "  18.26785714 -7.26785714]\n",
            " [12.35714286 32.17857143 21.19642857 14.28571429  9.82142857 18.26785714\n",
            "  33.98214286 13.30357143]\n",
            " [26.78571429 23.25       -3.625      -6.28571429 -8.67857143 -7.26785714\n",
            "  13.30357143 28.55357143]]\n"
          ]
        }
      ],
      "source": [
        "# 1.1 Compute the covariance matrix\n",
        "print(image)\n",
        "def compute_covariance_matrix(X):\n",
        "    #Compute the covariance matrix for the input data.\n",
        "    mean_of_matrix = np.mean(X)\n",
        "    covar_matrix = np.cov(X)\n",
        "    return covar_matrix\n",
        "\n",
        "cov_matrix = compute_covariance_matrix(image)\n",
        "print(cov_matrix)\n",
        "    #Args:\n",
        "    #X (numpy.ndarray): Input data matrix\n",
        "\n",
        "    #Returns:\n",
        "    #numpy.ndarray: Covariance matrix\n",
        "\n",
        "    # TODO: Implement the covariance matrix calculation\n",
        "    # Hint: Remember to center the data by subtracting the mean\n",
        "    # Avoid division by zero by adding a small epsilon value\n",
        "    #pass\n"
      ]
    },
    {
      "cell_type": "markdown",
      "metadata": {
        "id": "5QGPiUmUivxA"
      },
      "source": [
        "\n",
        "### 1.2 Compute eigenvectors and eigenvalues\n",
        "\n",
        "**TODO**: Implement a function to compute eigenvectors and eigenvalues of the covariance matrix  \n",
        "**Hint**: You can use NumPy's linalg.eig function, but try to implement it yourself for learning purposes"
      ]
    },
    {
      "cell_type": "code",
      "execution_count": null,
      "metadata": {
        "id": "XMuf-xi5ivxA",
        "colab": {
          "base_uri": "https://localhost:8080/"
        },
        "outputId": "86858381-8317-4052-ffdc-92bb6fa5edbb"
      },
      "outputs": [
        {
          "output_type": "stream",
          "name": "stdout",
          "text": [
            "[-1.73057932e-15  3.63617224e-16  5.40623917e-02  1.25991743e+00\n",
            "  5.18187772e+00  8.49719173e+00  8.70804449e+01  1.30997934e+02]\n",
            "------------------\n",
            "[[ 0.53017241 -0.0362291   0.55750417  0.16342929  0.16335895 -0.27699148\n",
            "  -0.51517332 -0.10616335]\n",
            " [ 0.03869351  0.12269796 -0.25247764 -0.17267406 -0.70942457 -0.08729776\n",
            "  -0.37407219 -0.48893007]\n",
            " [-0.30441967  0.09869523  0.40603749 -0.59431358  0.22281933 -0.25931652\n",
            "   0.23461125 -0.45560607]\n",
            " [ 0.52575261  0.09925565 -0.55678607 -0.00557826  0.37372989 -0.27607987\n",
            "   0.26705173 -0.34129156]\n",
            " [-0.24753197  0.45180678  0.18090274  0.70159099 -0.10134814 -0.22314781\n",
            "   0.27558242 -0.27134991]\n",
            " [ 0.00230353 -0.83022159  0.1019463   0.25744861 -0.12385355  0.05501246\n",
            "   0.26280515 -0.38291169]\n",
            " [ 0.01934715  0.18437208  0.03760069  0.07563409  0.29789632  0.80342332\n",
            "  -0.17522001 -0.43996023]\n",
            " [-0.53542618 -0.19144169 -0.32562911  0.16125929  0.40786613 -0.27180753\n",
            "  -0.54091877 -0.1086406 ]]\n"
          ]
        }
      ],
      "source": [
        "# 1.2 Compute eigenvectors and eigenvalues\n",
        "def compute_eigenvectors_eigenvalues(inp_matrix):\n",
        "  # compute eigen values & eigen vectors\n",
        "    matrix_eigen_val, matrix_eigen_vect = np.linalg.eigh(inp_matrix)\n",
        "\n",
        "    return matrix_eigen_val, matrix_eigen_vect\n",
        "\n",
        "matrix_eigen_val, matrix_eigen_vect = compute_eigenvectors_eigenvalues(cov_matrix)\n",
        "print(matrix_eigen_val)\n",
        "print(\"------------------\")\n",
        "print(matrix_eigen_vect)\n",
        "    #Compute the eigenvectors and eigenvalues of the covariance matrix.\n",
        "\n",
        "    #Args:\n",
        "    #cov_matrix (numpy.ndarray): Covariance matrix\n",
        "\n",
        "    #Returns:\n",
        "    #tuple: (eigenvalues, eigenvectors)\n",
        "\n",
        "    # TODO: Implement eigenvector and eigenvalue calculation\n",
        "    # Hint: Use numpy.linalg.eigh() for symmetric matrices\n",
        "    #pass"
      ]
    },
    {
      "cell_type": "markdown",
      "metadata": {
        "id": "Lkp2L1LSivxB"
      },
      "source": [
        "\n",
        "### 1.3 Select top k eigenvectors\n",
        "\n",
        "**TODO**: Implement a function to select the top k eigenvectors based on their corresponding eigenvalues  \n",
        "**TODO**: Create a projection matrix using these eigenvectors"
      ]
    },
    {
      "cell_type": "code",
      "execution_count": null,
      "metadata": {
        "id": "kSBJSd4GivxB",
        "colab": {
          "base_uri": "https://localhost:8080/"
        },
        "outputId": "0c63b99e-d4ac-4afa-d8f8-c7a33036bdfa"
      },
      "outputs": [
        {
          "output_type": "stream",
          "name": "stdout",
          "text": [
            "[130.99793443  87.08044487   8.49719173]\n",
            "------------------\n",
            "[[-0.10616335 -0.51517332 -0.27699148]\n",
            " [-0.48893007 -0.37407219 -0.08729776]\n",
            " [-0.45560607  0.23461125 -0.25931652]\n",
            " [-0.34129156  0.26705173 -0.27607987]\n",
            " [-0.27134991  0.27558242 -0.22314781]\n",
            " [-0.38291169  0.26280515  0.05501246]\n",
            " [-0.43996023 -0.17522001  0.80342332]\n",
            " [-0.1086406  -0.54091877 -0.27180753]]\n"
          ]
        }
      ],
      "source": [
        "# 1.3 Select top k eigenvectors\n",
        "def select_top_k_eigenvectors(eigenvalues, eigenvectors, k):\n",
        "     # Sort the eigenvalues in descending order and get the indices\n",
        "    sorted_indices = np.argsort(eigenvalues)[::-1]\n",
        "\n",
        "    # Sort eigenvalues and eigenvectors based on these indices\n",
        "    sorted_eigenvalues = eigenvalues[sorted_indices]\n",
        "    sorted_eigenvectors = eigenvectors[:, sorted_indices]\n",
        "\n",
        "    # Select the top k eigenvectors\n",
        "    top_k_eigenvectors = sorted_eigenvectors[:, :k]\n",
        "\n",
        "    return sorted_eigenvalues[:k], top_k_eigenvectors\n",
        "\n",
        "sorted_eigenvalues, top_k_eigenvectors = select_top_k_eigenvectors(matrix_eigen_val, matrix_eigen_vect, 3)\n",
        "    #Select the top k eigenvectors based on eigenvalues.\n",
        "\n",
        "print(sorted_eigenvalues)\n",
        "print(\"------------------\")\n",
        "print(top_k_eigenvectors)\n",
        "    #Args:\n",
        "    #eigenvalues (numpy.ndarray): Array of eigenvalues\n",
        "    #eigenvectors (numpy.ndarray): Matrix of eigenvectors\n",
        "    #k (int): Number of top eigenvectors to select\n",
        "\n",
        "    #Returns:\n",
        "    #numpy.ndarray: Top k eigenvectors\n",
        "    #\"\"\"\n",
        "    # TODO: Implement the selection of top k eigenvectors\n",
        "    # Hint: Sort eigenvalues and select corresponding eigenvectors\n",
        "    #pass"
      ]
    },
    {
      "cell_type": "markdown",
      "metadata": {
        "id": "8O8oI4rxivxB"
      },
      "source": [
        "\n",
        "### 1.4 Project the data onto the new subspace\n",
        "\n",
        "**TODO**: Project the centered data onto the new subspace defined by the top k eigenvectors  "
      ]
    },
    {
      "cell_type": "code",
      "execution_count": null,
      "metadata": {
        "id": "V5LcDqdgivxB",
        "colab": {
          "base_uri": "https://localhost:8080/"
        },
        "outputId": "9d9eb00a-0299-48c6-ae6f-f5743e765933"
      },
      "outputs": [
        {
          "output_type": "stream",
          "name": "stdout",
          "text": [
            "[[ 4.9831442   1.34044375 -5.23048786]\n",
            " [-7.17620217  6.83019169 -3.29303655]\n",
            " [-2.19214912 -1.6271797   3.93717361]\n",
            " [ 0.51705721 -4.02760455  5.01494777]\n",
            " [ 1.46763973 -5.07731659  6.01992854]\n",
            " [-0.39037316 -2.76019276  4.467743  ]\n",
            " [-1.8482166   3.73382589 -5.14830386]\n",
            " [ 4.63909992  1.58783227 -5.76796465]]\n"
          ]
        }
      ],
      "source": [
        "# 1.4 Project the data onto the new subspace\n",
        "def project_data(X, eigenvectors):\n",
        "    # Centre the data\n",
        "    X_centered = X - np.mean(X, axis=0)\n",
        "\n",
        "    # Project the centered data onto the new subspace\n",
        "    projected_data = np.dot(X_centered, eigenvectors)\n",
        "\n",
        "    return projected_data\n",
        "\n",
        "projected_data = project_data(image, top_k_eigenvectors)\n",
        "\n",
        "print(projected_data)\n",
        "    #Project the data onto the new subspace defined by the eigenvectors.\n",
        "\n",
        "    #Args:\n",
        "    #X (numpy.ndarray): Input data matrix\n",
        "    #eigenvectors (numpy.ndarray): Matrix of selected eigenvectors\n",
        "\n",
        "    #Returns:\n",
        "    #numpy.ndarray: Projected data\n",
        "\n",
        "    # TODO: Implement the data projection\n",
        "    # Hint: Center the data and then project it onto the eigenvectors\n",
        "    #pass"
      ]
    },
    {
      "cell_type": "markdown",
      "metadata": {
        "id": "6vo1GipPivxB"
      },
      "source": [
        "### 1.5 Reconstruct the compressed image\n",
        "\n",
        "**TODO**: Implement a function to reconstruct the compressed image from the projected data  "
      ]
    },
    {
      "cell_type": "code",
      "execution_count": null,
      "metadata": {
        "id": "eUOEDgtfivxC"
      },
      "outputs": [],
      "source": [
        "\n",
        "# 1.5 Reconstruct the compressed image\n",
        "def reconstruct_image(X_projected, eigenvectors, original_mean):\n",
        "    \"\"\"\n",
        "    Reconstruct the compressed image from the projected data.\n",
        "\n",
        "    Args:\n",
        "    X_projected (numpy.ndarray): Projected data\n",
        "    eigenvectors (numpy.ndarray): Matrix of selected eigenvectors\n",
        "    original_mean (numpy.ndarray): Mean of the original data\n",
        "\n",
        "    Returns:\n",
        "    numpy.ndarray: Reconstructed data\n",
        "    \"\"\"\n",
        "    # TODO: Implement the image reconstruction\n",
        "    # Hint: Project back to the original space and add the mean\n",
        "    pass"
      ]
    },
    {
      "cell_type": "markdown",
      "metadata": {
        "id": "qZuyUyaLivxC"
      },
      "source": [
        "### 1.6 Complete the main function"
      ]
    },
    {
      "cell_type": "code",
      "execution_count": null,
      "metadata": {
        "id": "U28ojiSKivxC"
      },
      "outputs": [],
      "source": [
        "# Main PCA function\n",
        "def perform_pca(X, k):\n",
        "    \"\"\"\n",
        "    Perform PCA on the input data.\n",
        "\n",
        "    Args:\n",
        "    X (numpy.ndarray): Input data matrix\n",
        "    k (int): Number of principal components to keep\n",
        "\n",
        "    Returns:\n",
        "    tuple: (compressed_data, reconstructed_data, eigenvectors)\n",
        "    \"\"\"\n",
        "    # TODO: Implement the main PCA function using the helper functions above\n",
        "    # 1. Compute the covariance matrix\n",
        "    # 2. Compute eigenvectors and eigenvalues\n",
        "    # 3. Select top k eigenvectors\n",
        "    # 4. Project the data\n",
        "    # 5. Reconstruct the data\n",
        "    pass"
      ]
    },
    {
      "cell_type": "code",
      "execution_count": null,
      "metadata": {
        "id": "DEZb1QoTivxC"
      },
      "outputs": [],
      "source": [
        "# Test the implementation\n",
        "k = 3  # Number of principal components to keep\n",
        "compressed_data, reconstructed_data, eigenvectors = perform_pca(X, k)\n",
        "\n",
        "# Visualize the results\n",
        "plt.figure(figsize=(10, 5))\n",
        "plt.subplot(1, 2, 1)\n",
        "plt.imshow(X[0].reshape(8, 8), cmap='gray')\n",
        "plt.title('Original Image')\n",
        "plt.subplot(1, 2, 2)\n",
        "plt.imshow(reconstructed_data[0].reshape(8, 8), cmap='gray')\n",
        "plt.title(f'Reconstructed Image (k={k})')\n",
        "plt.show()\n",
        "\n",
        "# Bonus: Determine optimal number of principal components\n",
        "def explained_variance_ratio(eigenvalues):\n",
        "    return eigenvalues / np.sum(eigenvalues)\n",
        "\n",
        "# Plot the cumulative explained variance ratio vs. number of components\n",
        "cov_matrix = compute_covariance_matrix(X)\n",
        "eigenvalues, _ = compute_eigenvectors_eigenvalues(cov_matrix)\n",
        "evr = explained_variance_ratio(eigenvalues)\n",
        "cumulative_evr = np.cumsum(evr)\n",
        "\n",
        "plt.plot(range(1, len(cumulative_evr) + 1), cumulative_evr)\n",
        "plt.xlabel('Number of Components')\n",
        "plt.ylabel('Cumulative Explained Variance Ratio')\n",
        "plt.title('Explained Variance Ratio vs. Number of Components')\n",
        "plt.show()"
      ]
    }
  ],
  "metadata": {
    "kernelspec": {
      "display_name": "Python 3",
      "language": "python",
      "name": "python3"
    },
    "language_info": {
      "codemirror_mode": {
        "name": "ipython",
        "version": 3
      },
      "file_extension": ".py",
      "mimetype": "text/x-python",
      "name": "python",
      "nbconvert_exporter": "python",
      "pygments_lexer": "ipython3",
      "version": "3.10.12"
    },
    "colab": {
      "provenance": [],
      "include_colab_link": true
    }
  },
  "nbformat": 4,
  "nbformat_minor": 0
}