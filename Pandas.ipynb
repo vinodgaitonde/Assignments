{
  "cells": [
    {
      "cell_type": "markdown",
      "metadata": {
        "id": "view-in-github",
        "colab_type": "text"
      },
      "source": [
        "<a href=\"https://colab.research.google.com/github/vinodgaitonde/Assignments/blob/main/Pandas.ipynb\" target=\"_parent\"><img src=\"https://colab.research.google.com/assets/colab-badge.svg\" alt=\"Open In Colab\"/></a>"
      ]
    },
    {
      "cell_type": "markdown",
      "metadata": {
        "id": "noI16kYSwpBh"
      },
      "source": [
        "### Data Exploration Exercises\n",
        "\n",
        "#### Task 1.1 - The goal of this exercise is to find the average age of celebrities who died February–July 2016\n",
        "\n",
        "<div>\n",
        "  <a href=\"https://colab.research.google.com/github/emharsha1812/CCE_Assignment/blob/main/Assignments/Pandas.ipynb\" target=\"_parent\">\n",
        "    <img src=\"https://colab.research.google.com/assets/colab-badge.svg\" alt=\"Open In Colab\"/>\n",
        "  </a>\n",
        "</div>\n",
        "\n",
        "1. Create a data frame from the file celebrity_deaths_2016.csv. For this exercise, we’ll use only two columns:\n",
        "–dateofdeath\n",
        "– age\n",
        "2. Create a new month column containing the month from the dateofdeath\n",
        "column.\n",
        "3. Make the month column the index of the data frame.\n",
        "4. Sort the data frame by the index.\n",
        "5. Clean all nonintegers from the age column.\n",
        "6. Turn the age column into an integer value.\n",
        "7. Find the average age of celebrities who died during that period"
      ]
    },
    {
      "cell_type": "code",
      "execution_count": null,
      "metadata": {
        "id": "wJ9Ca4y1wpBl",
        "colab": {
          "base_uri": "https://localhost:8080/"
        },
        "outputId": "64049899-0925-4ac1-835c-a119e332e4f4"
      },
      "outputs": [
        {
          "output_type": "stream",
          "name": "stdout",
          "text": [
            "Average age of celebrities who died during this period: 100.96033820138355\n"
          ]
        }
      ],
      "source": [
        "import pandas as pd\n",
        "import numpy as np\n",
        "\n",
        "# You are NOT required to change the code here\n",
        "# titanic_df=pd.read_csv('celebrity_deaths_2016.csv')\n",
        "titanic_df='https://raw.githubusercontent.com/emharsha1812/CCE_Assignment/main/Assignments/Assignment1/dataset/celebrity_deaths_2016.csv'\n",
        "\n",
        "def calculate_average_age(df=titanic_df):\n",
        "    #TODO- Write your code here\n",
        "    #'''Arguments -\n",
        "    #titanic_df = The pandas dataframe that we loaded\n",
        "\n",
        "    #Returns\n",
        "    #int : average_age\n",
        "    # Load the CSV file\n",
        "    dfile = pd.read_csv(df)\n",
        "\n",
        "    # Extract only the required columns\n",
        "    dfile = dfile[['dateofdeath', 'age']]\n",
        "\n",
        "    # Convert 'dateofdeath' to datetime format and extract the month\n",
        "    dfile['dateofdeath'] = pd.to_datetime(dfile['dateofdeath'], errors='coerce')\n",
        "    dfile['month'] = dfile['dateofdeath'].dt.month  # Extract month as a new column\n",
        "\n",
        "    # Set the 'month' column as the index\n",
        "    dfile.set_index('month', inplace=True)\n",
        "\n",
        "    # Sort the DataFrame by the index (month)\n",
        "    dfile.sort_index(inplace=True)\n",
        "\n",
        "    # Clean the 'age' column by removing non-integer values\n",
        "    dfile['age'] = pd.to_numeric(dfile['age'], errors='coerce')\n",
        "\n",
        "    # Drop rows where 'age' is NaN and convert the 'age' column to integers\n",
        "    dfile.dropna(subset=['age'], inplace=True)\n",
        "    dfile['age'] = dfile['age'].astype(int)\n",
        "\n",
        "    # Compute the average age\n",
        "    average_age = dfile['age'].mean()\n",
        "\n",
        "    return average_age\n",
        "\n",
        "get_average_age=calculate_average_age(titanic_df)\n",
        "print(f\"Average age of celebrities who died during this period: {get_average_age}\")"
      ]
    },
    {
      "cell_type": "markdown",
      "metadata": {
        "id": "yZMy-sFSwpBn"
      },
      "source": [
        "### Task 1.2 - The goal of this exercise is to group the data according to the below conditions\n",
        "1. Load the CSV file nyc_taxi_2019-01.csv into a data frame using only the columns passenger_count, trip_distance, and total_amount.\n",
        "2. Using a descending sort, find the average cost of the 20 longest (in distance) taxi rides in January 2019.\n",
        "3. Using an ascending sort, find the average cost of the 20 longest (in distance) taxi rides in January 2019. Are the results any different?\n",
        "4. Sort by ascending passenger count and descending trip distance. (So, start with the longest trip with 0 passengers and end with the shortest trip with 9 passengers.) What is the average price paid for the top 50 rides?\n"
      ]
    },
    {
      "cell_type": "code",
      "execution_count": null,
      "metadata": {
        "id": "PJSLoZQmwpBn"
      },
      "outputs": [],
      "source": [
        "# filename = 'nyc_taxidataset.csv'\n",
        "filename='https://raw.githubusercontent.com/emharsha1812/CCE_Assignment/main/Assignments/Assignment1/dataset/nyc_taxidataset.csv'\n",
        "df = pd.read_csv(filename,usecols=['passenger_count','trip_distance', 'total_amount'],\n",
        "dtype={'total_amount':np.float128})\n",
        "\n",
        "\n",
        "# Task 1.2.2 & Task 1.2.3\n",
        "def get_average_cost_descending_sort(df):\n",
        "    #\"\"\"Arguments- df:Dataframe\n",
        "\n",
        "    #Returns\n",
        "    #tuple of float - (avg_desc,avg_asc) : (rounded of two integers)\n",
        "    #\"\"\"\n",
        "    #avg_desc=None\n",
        "    #avg_asc=None\n",
        "    #return (avg_desc,avg_asc)\n",
        "\n",
        "    # Task 1.2.2 - Find the average cost of the 20 longest trips (descending)\n",
        "    longest_trips_desc = df.sort_values(by='trip_distance', ascending=False).head(20)\n",
        "    avg_desc = longest_trips_desc['total_amount'].mean()\n",
        "    #print(f\"Average cost of the 20 longest (descending) taxi rides: {avg_desc:.2f}\")\n",
        "\n",
        "    # Task 1.2.3 - Find the average cost of the 20 longest trips (ascending)\n",
        "    longest_trips_asc = df.sort_values(by='trip_distance', ascending=True).head(20)\n",
        "    avg_asc = longest_trips_asc['total_amount'].mean()\n",
        "    #print(f\"Average cost of the 20 longest (ascending) taxi rides: {avg_asc:.2f}\")\n",
        "\n",
        "    return(avg_desc, avg_asc)\n",
        "\n",
        "def get_price_top50_rides(df):\n",
        "    #\"\"\"Arguments df:Dataframe\n",
        "    #Returns\n",
        "    #float - rounded to two integers\n",
        "    #\"\"\"\n",
        "    #avg_price_rides=None\n",
        "    #Write your code below\n",
        "    #return avg_price_rides\n",
        "\n",
        "    # Sort by ascending passenger count and descending trip distance\n",
        "    sorted_taxi_df = df.sort_values(by=['passenger_count', 'trip_distance'], ascending=[True, False])\n",
        "\n",
        "    # Find the average price for the top 50 rides\n",
        "    top_50_rides = sorted_taxi_df.head(50)\n",
        "    avg_price_top_50 = top_50_rides['total_amount'].mean()\n",
        "    #print(f\"Average price paid for the top 50 rides: {avg_price_top_50:.2f}\")\n",
        "\n",
        "    return avg_price_top_50\n",
        "\n",
        "get_average_cost_ans=get_average_cost_descending_sort(df)\n",
        "get_avg_price_top50_ans=get_price_top50_rides(df)"
      ]
    },
    {
      "cell_type": "markdown",
      "metadata": {
        "id": "Ymf0lw5CwpBo"
      },
      "source": [
        "#### Task 1.3 - The goal of this exercise is to group the data according to the below conditions\n",
        "1. Load taxi data from January 2019 into a data frame using only the columns passenger_count, trip_distance, and total_amount.\n",
        "2. For each number of passengers, find the mean cost of a taxi ride. Sort this result from lowest (i.e., cheapest) to highest (i.e., most expensive). Return the topmost value (use .head(1))\n",
        "Sort the results again by increasing the number of passengers. Return the topmost value (use .head(1))\n",
        "3. Create a new column, trip_distance_group, in which the values are short (< 2\n",
        "miles), medium (>= 2 miles and <= 10 miles), and long (> 10 miles). What is the\n",
        "average number of passengers per trip length category? Sort this result from\n",
        "highest (most passengers) to lowest (fewest passengers)."
      ]
    },
    {
      "cell_type": "code",
      "execution_count": null,
      "metadata": {
        "id": "vyzYFp7hwpBo"
      },
      "outputs": [],
      "source": [
        "filename='https://raw.githubusercontent.com/emharsha1812/CCE_Assignment/main/Assignments/Assignment1/dataset/nyc_taxidataset.csv'\n",
        "df = pd.read_csv(filename,usecols=['passenger_count','trip_distance','total_amount', 'tpep_pickup_datetime'])\n",
        "\n",
        "def get_mean_cost(df):\n",
        "    #\"\"\"Parameters\n",
        "    #df - Dataframe\n",
        "\n",
        "    #Returns\n",
        "    #mean_cost : int\"\"\"\n",
        "    #Write your code below\n",
        "    #mean_cost=None\n",
        "    #return mean_cost\n",
        "\n",
        "    def get_average_cost_per_passenger(df):\n",
        "        return df['total_amount'].mean()\n",
        "\n",
        "    # Convert the 'tpep_pickup_datetime' column to datetime format\n",
        "    df['tpep_pickup_datetime'] = pd.to_datetime(df['tpep_pickup_datetime'])\n",
        "\n",
        "    # Data only for Jan 2019\n",
        "    taxi_data_january = df[(df['tpep_pickup_datetime'].dt.month == 1) & (df['tpep_pickup_datetime'].dt.year == 2019)]\n",
        "    mean_cost = get_average_cost_per_passenger(taxi_data_january)\n",
        "\n",
        "    return mean_cost\n",
        "\n",
        "\n",
        "#mean_cost = get_mean_cost(df)\n",
        "#print(\"Mean cost of a taxi ride : \", mean_cost)\n",
        "\n",
        "def get_lowest_average_fare(df):\n",
        "    #\"\"\"\n",
        "    #Find the passenger count with the lowest average total fare.\n",
        "\n",
        "    #Args:\n",
        "    #df (pandas.DataFrame): A DataFrame containing 'passenger_count' and 'total_amount' columns.\n",
        "\n",
        "    #Returns:\n",
        "    #pandas.Series: A Series with one row, containing the passenger count with the lowest average fare.\n",
        "    #\"\"\"\n",
        "    #pass\n",
        "\n",
        "    # Calculate the mean cost of a taxi ride for each number of passengers\n",
        "    mean_cost_per_passenger = df.groupby('passenger_count', as_index=False)['total_amount'].mean().reset_index()\n",
        "\n",
        "    # Sort by cost from lowest to highest and return the topmost value\n",
        "    cheapest_ride = mean_cost_per_passenger.sort_values(by ='total_amount', ascending=True).head(1)\n",
        "    #print(cheapest_ride)\n",
        "\n",
        "    # Sort by increasing number of passengers and return the topmost value\n",
        "    lowest_passenger_count = mean_cost_per_passenger.sort_values(by='passenger_count', ascending=True).head(1)\n",
        "    #print(lowest_passenger_count)\n",
        "\n",
        "    return\n",
        "\n",
        "\n",
        "def get_trip_length_category(df):\n",
        "    #\"\"\"\n",
        "    #Find the average number of passengers per trip length category\n",
        "\n",
        "    #Args:\n",
        "    #df (pandas.DataFrame): A DataFrame containing 'passenger_count' and 'total_amount' columns.\n",
        "\n",
        "    #Returns:\n",
        "    #pandas.Series: A Series with three rows. displaying values of trip distance (short, medium, long).\n",
        "    #\"\"\"\n",
        "    #pass\n",
        "\n",
        "    # Define trip length categories\n",
        "    def categorize_trip_distance(distance):\n",
        "        if distance < 2:\n",
        "            return 'short'\n",
        "        elif 2 <= distance <= 10:\n",
        "            return 'medium'\n",
        "        else:\n",
        "            return 'long'\n",
        "\n",
        "    df['trip_distance_group'] = df['trip_distance'].apply(categorize_trip_distance)\n",
        "\n",
        "    # Find the average number of passengers per trip length category\n",
        "    average_passengers_per_trip_length = df.groupby('trip_distance_group')['passenger_count'].mean().reset_index()\n",
        "\n",
        "    # Sort by the average number of passengers from highest to lowest\n",
        "    average_passengers_per_trip_length = average_passengers_per_trip_length.sort_values(by='passenger_count', ascending=False)\n",
        "\n",
        "    #print(average_passengers_per_trip_length)\n",
        "\n",
        "    return average_passengers_per_trip_length\n",
        "\n",
        "mean_cost_ans =get_mean_cost(df)\n",
        "lowest_average_fare_ans =get_lowest_average_fare(df)\n",
        "trip_length_category_ans =get_trip_length_category(df)\n",
        "\n",
        "#print(trip_length_category_ans)"
      ]
    }
  ],
  "metadata": {
    "kernelspec": {
      "display_name": "Python 3",
      "language": "python",
      "name": "python3"
    },
    "language_info": {
      "codemirror_mode": {
        "name": "ipython",
        "version": 3
      },
      "file_extension": ".py",
      "mimetype": "text/x-python",
      "name": "python",
      "nbconvert_exporter": "python",
      "pygments_lexer": "ipython3",
      "version": "3.10.12"
    },
    "colab": {
      "provenance": [],
      "include_colab_link": true
    }
  },
  "nbformat": 4,
  "nbformat_minor": 0
}